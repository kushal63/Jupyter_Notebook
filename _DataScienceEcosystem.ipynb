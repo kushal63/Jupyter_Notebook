{
 "cells": [
  {
   "cell_type": "markdown",
   "metadata": {},
   "source": [
    "<center>\n",
    "    <img src=\"https://cf-courses-data.s3.us.cloud-object-storage.appdomain.cloud/IBMDeveloperSkillsNetwork-DS0105EN-SkillsNetwork/labs/Module2/images/SN_web_lightmode.png\" width=\"300\" alt=\"cognitiveclass.ai logo\">\n",
    "</center>\n"
   ]
  },
  {
   "cell_type": "markdown",
   "metadata": {},
   "source": [
    "#### Add your code below following the instructions given in the course\n"
   ]
  },
  {
   "cell_type": "markdown",
   "metadata": {},
   "source": [
    "### Data Science Tools and Ecosystem"
   ]
  },
  {
   "cell_type": "markdown",
   "metadata": {},
   "source": [
    "### In this notebook, Data Science Tools and Ecosystem are summarized."
   ]
  },
  {
   "cell_type": "markdown",
   "metadata": {},
   "source": [
    "### Objectives:\n",
    "1) List of Languages used for Data Science.\n",
    "2) List of common Library used for Data Science.\n",
    "3) List of Populor Tools used in Data Science.\n",
    "4) Introduction to Arithmatic Expression.\n",
    "5) Introduction to Use of Markdown."
   ]
  },
  {
   "cell_type": "markdown",
   "metadata": {},
   "source": [
    "### List of Data Science Languages used are:\n",
    "1) Python\n",
    "2) SQL\n",
    "3) Java\n",
    "4) Julia\n",
    "5) R\n",
    "6) Scala"
   ]
  },
  {
   "cell_type": "markdown",
   "metadata": {},
   "source": [
    "### Commonly Used Libraries in Data Science are:\n",
    "\n",
    "1) Pandas\n",
    "2) NumPy\n",
    "3) keras\n",
    "4) Sklearn\n",
    "5) SciPy\n",
    "6) Matplotlib"
   ]
  },
  {
   "cell_type": "markdown",
   "metadata": {},
   "source": [
    "### Data Science Tools:\n",
    "| Data Science Tools |\n",
    "|--------------------|\n",
    "| Anaconda |\n",
    "| R Studio |\n",
    "| Jupyter Notebook |\n",
    "| Spyder |"
   ]
  },
  {
   "cell_type": "markdown",
   "metadata": {},
   "source": [
    "### Below are some of examples of Arithmatic expression:"
   ]
  },
  {
   "cell_type": "code",
   "execution_count": 1,
   "metadata": {},
   "outputs": [
    {
     "name": "stdout",
     "output_type": "stream",
     "text": [
      "Sum =   13\n",
      "Prod =  40\n",
      "Diff =  3\n"
     ]
    }
   ],
   "source": [
    "sum = 5+8\n",
    "print(\"Sum =  \",sum)\n",
    "prod = 5*8\n",
    "print(\"Prod = \",prod)\n",
    "diff= 8-5\n",
    "print(\"Diff = \", diff)"
   ]
  },
  {
   "cell_type": "code",
   "execution_count": 2,
   "metadata": {},
   "outputs": [
    {
     "data": {
      "text/plain": [
       "53"
      ]
     },
     "execution_count": 2,
     "metadata": {},
     "output_type": "execute_result"
    }
   ],
   "source": [
    "### This is a simple arithmetic expression for multiply and addition\n",
    "\n",
    "(5*9)+8\n"
   ]
  },
  {
   "cell_type": "code",
   "execution_count": 3,
   "metadata": {},
   "outputs": [
    {
     "name": "stdout",
     "output_type": "stream",
     "text": [
      "Minutes =  200\n",
      "Hours =  3.3333333333333335\n"
     ]
    }
   ],
   "source": [
    "#Code for conversion of minutes to Hours\n",
    "\n",
    "minutes = 200\n",
    "hours = minutes/60\n",
    "print(\"Minutes = \", minutes)\n",
    "print(\"Hours = \", hours)"
   ]
  },
  {
   "cell_type": "markdown",
   "metadata": {},
   "source": [
    "### Author\n",
    "Kushal Yallamalli"
   ]
  },
  {
   "cell_type": "code",
   "execution_count": null,
   "metadata": {},
   "outputs": [],
   "source": []
  }
 ],
 "metadata": {
  "kernelspec": {
   "display_name": "Python",
   "language": "python",
   "name": "conda-env-python-py"
  },
  "language_info": {
   "codemirror_mode": {
    "name": "ipython",
    "version": 3
   },
   "file_extension": ".py",
   "mimetype": "text/x-python",
   "name": "python",
   "nbconvert_exporter": "python",
   "pygments_lexer": "ipython3",
   "version": "3.7.12"
  }
 },
 "nbformat": 4,
 "nbformat_minor": 4
}
